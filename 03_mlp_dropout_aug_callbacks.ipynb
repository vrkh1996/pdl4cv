{
 "cells": [
  {
   "cell_type": "markdown",
   "metadata": {
    "collapsed": true
   },
   "source": [
    "<div class=\"alert\">\n",
    "<div style=\"direction:ltr;text-align:center;font-family: B Tahoma; font-size:24pt\"> Practical Deep Learning Course for Computer Vision\n",
    "</div>\n",
    "</div>"
   ]
  },
  {
   "cell_type": "markdown",
   "metadata": {
    "collapsed": true
   },
   "source": [
    "<div class=\"alert\">\n",
    "<div style=\"direction:ltr;text-align:left;font-family:Tahoma; font-size:16pt\"> Dropout, Data Augmention, Callbacks,...\n",
    "</div>\n",
    "</div>"
   ]
  },
  {
   "cell_type": "markdown",
   "metadata": {},
   "source": [
    "<img src=\"./images/overfitting.png\" alt=\"Overfitting\">\n",
    "<a href=\"https://miro.medium.com/max/2400/1*UCd6KrmBxpzUpWt3bnoKEA.png\">Reference</a>"
   ]
  },
  {
   "cell_type": "markdown",
   "metadata": {},
   "source": [
    "<div style=\"direction:ltr;text-align:left;font-family: Tahoma\">\n",
    "Import the required libraries.<br>\n",
    "</div>"
   ]
  },
  {
   "cell_type": "code",
   "execution_count": 1,
   "metadata": {
    "nbpresent": {
     "id": "de829a92-1fb6-44ad-a2c6-fc1001e1f6e1"
    }
   },
   "outputs": [
    {
     "name": "stderr",
     "output_type": "stream",
     "text": [
      "Using TensorFlow backend.\n"
     ]
    }
   ],
   "source": [
    "import numpy as np\n",
    "import matplotlib.pyplot as plt\n",
    "import tensorflow as tf\n",
    "from sklearn.utils import shuffle\n",
    "from keras.utils import to_categorical"
   ]
  },
  {
   "cell_type": "markdown",
   "metadata": {},
   "source": [
    "<div style=\"direction:ltr;text-align:left;font-family: Tahoma\">\n",
    "Load the dataset:\n",
    "</div>"
   ]
  },
  {
   "cell_type": "code",
   "execution_count": 2,
   "metadata": {},
   "outputs": [],
   "source": [
    "(x_train, y_train), (x_test, y_test) = tf.keras.datasets.cifar10.load_data()"
   ]
  },
  {
   "cell_type": "markdown",
   "metadata": {},
   "source": [
    "<div style=\"direction:ltr;text-align:left;font-family: Tahoma\">\n",
    "Displaying the dataset:\n",
    "</div>"
   ]
  },
  {
   "cell_type": "code",
   "execution_count": 3,
   "metadata": {},
   "outputs": [
    {
     "data": {
      "text/plain": [
       "<matplotlib.image.AxesImage at 0x2d745529588>"
      ]
     },
     "execution_count": 3,
     "metadata": {},
     "output_type": "execute_result"
    },
    {
     "data": {
      "image/png": "[encoded data removed]",
      "text/plain": [
       "<Figure size 432x288 with 1 Axes>"
      ]
     },
     "metadata": {
      "needs_background": "light"
     },
     "output_type": "display_data"
    }
   ],
   "source": [
    "plt.imshow(x_train[5])"
   ]
  },
  {
   "cell_type": "markdown",
   "metadata": {},
   "source": [
    "<div style=\"direction:ltr;text-align:left;font-family: Tahoma\">\n",
    "Create tf.data:\n",
    "</div>"
   ]
  },
  {
   "cell_type": "code",
   "execution_count": 4,
   "metadata": {},
   "outputs": [],
   "source": [
    "def preprocess(input_image, label):\n",
    "    input_image = tf.cast(input_image, tf.float32)\n",
    "    label = tf.cast(label, tf.int32)\n",
    "    label = tf.one_hot(label,  depth=10)\n",
    "    label = tf.squeeze(label)\n",
    "    input_image = input_image / 255\n",
    "    input_image = tf.reshape(input_image, [32*32*3])\n",
    "    \n",
    "    return input_image, label"
   ]
  },
  {
   "cell_type": "code",
   "execution_count": 5,
   "metadata": {},
   "outputs": [],
   "source": [
    "train_dataset = tf.data.Dataset.from_tensor_slices((x_train, y_train))\n",
    "train_dataset = train_dataset.map(preprocess, num_parallel_calls=tf.data.experimental.AUTOTUNE)\n",
    "train_dataset = train_dataset.prefetch(tf.data.experimental.AUTOTUNE)\n",
    "train_dataset = train_dataset.shuffle(128).batch(32)\n",
    "\n",
    "test_dataset = tf.data.Dataset.from_tensor_slices((x_test, y_test))\n",
    "test_dataset = test_dataset.map(preprocess, num_parallel_calls=tf.data.experimental.AUTOTUNE)\n",
    "test_dataset = test_dataset.batch(32)"
   ]
  },
  {
   "cell_type": "markdown",
   "metadata": {},
   "source": [
    "<div style=\"direction:ltr;text-align:left;font-family: Tahoma\">\n",
    "Defining the classifier:\n",
    "</div>"
   ]
  },
  {
   "cell_type": "code",
   "execution_count": 6,
   "metadata": {},
   "outputs": [],
   "source": [
    "model = tf.keras.Sequential([tf.keras.layers.Dense(1024, activation='relu', input_shape=(32*32*3,)), \n",
    "                             tf.keras.layers.Dense(1024, activation='relu'), \n",
    "                             tf.keras.layers.Dense(512, activation='relu'), \n",
    "                             tf.keras.layers.Dense(256, activation='relu'), \n",
    "                             tf.keras.layers.Dense(10, activation='softmax')])"
   ]
  },
  {
   "cell_type": "code",
   "execution_count": 7,
   "metadata": {},
   "outputs": [
    {
     "name": "stdout",
     "output_type": "stream",
     "text": [
      "Model: \"sequential\"\n",
      "_________________________________________________________________\n",
      "Layer (type)                 Output Shape              Param #   \n",
      "=================================================================\n",
      "dense (Dense)                (None, 1024)              3146752   \n",
      "_________________________________________________________________\n",
      "dense_1 (Dense)              (None, 1024)              1049600   \n",
      "_________________________________________________________________\n",
      "dense_2 (Dense)              (None, 512)               524800    \n",
      "_________________________________________________________________\n",
      "dense_3 (Dense)              (None, 256)               131328    \n",
      "_________________________________________________________________\n",
      "dense_4 (Dense)              (None, 10)                2570      \n",
      "=================================================================\n",
      "Total params: 4,855,050\n",
      "Trainable params: 4,855,050\n",
      "Non-trainable params: 0\n",
      "_________________________________________________________________\n"
     ]
    }
   ],
   "source": [
    "model.summary()"
   ]
  },
  {
   "cell_type": "code",
   "execution_count": 8,
   "metadata": {},
   "outputs": [],
   "source": [
    "model.compile(loss='categorical_crossentropy', optimizer='adam', metrics=['accuracy'])"
   ]
  },
  {
   "cell_type": "markdown",
   "metadata": {},
   "source": [
    "<div style=\"direction:ltr;text-align:left;font-family: Tahoma\">\n",
    "Fitting the classifier:\n",
    "</div>"
   ]
  },
  {
   "cell_type": "code",
   "execution_count": 9,
   "metadata": {
    "scrolled": true
   },
   "outputs": [
    {
     "name": "stdout",
     "output_type": "stream",
     "text": [
      "Train for 1563 steps\n",
      "Epoch 1/20\n",
      "1563/1563 [==============================] - 12s 8ms/step - loss: 1.8921 - accuracy: 0.3085\n",
      "Epoch 2/20\n",
      "1563/1563 [==============================] - 12s 8ms/step - loss: 1.7202 - accuracy: 0.3791\n",
      "Epoch 3/20\n",
      "1563/1563 [==============================] - 11s 7ms/step - loss: 1.6452 - accuracy: 0.4084\n",
      "Epoch 4/20\n",
      "1563/1563 [==============================] - 11s 7ms/step - loss: 1.5931 - accuracy: 0.4275\n",
      "Epoch 5/20\n",
      "1563/1563 [==============================] - 11s 7ms/step - loss: 1.5409 - accuracy: 0.4445\n",
      "Epoch 6/20\n",
      "1563/1563 [==============================] - 11s 7ms/step - loss: 1.5033 - accuracy: 0.4589\n",
      "Epoch 7/20\n",
      "1563/1563 [==============================] - 11s 7ms/step - loss: 1.4622 - accuracy: 0.4733\n",
      "Epoch 8/20\n",
      "1563/1563 [==============================] - 11s 7ms/step - loss: 1.4378 - accuracy: 0.4819\n",
      "Epoch 9/20\n",
      "1563/1563 [==============================] - 11s 7ms/step - loss: 1.4080 - accuracy: 0.4919\n",
      "Epoch 10/20\n",
      "1563/1563 [==============================] - 11s 7ms/step - loss: 1.3786 - accuracy: 0.5031\n",
      "Epoch 11/20\n",
      "1563/1563 [==============================] - 11s 7ms/step - loss: 1.3576 - accuracy: 0.5104\n",
      "Epoch 12/20\n",
      "1563/1563 [==============================] - 11s 7ms/step - loss: 1.3297 - accuracy: 0.5209\n",
      "Epoch 13/20\n",
      "1563/1563 [==============================] - 11s 7ms/step - loss: 1.3029 - accuracy: 0.5274\n",
      "Epoch 14/20\n",
      "1563/1563 [==============================] - 11s 7ms/step - loss: 1.2724 - accuracy: 0.5356\n",
      "Epoch 15/20\n",
      "1563/1563 [==============================] - 11s 7ms/step - loss: 1.2524 - accuracy: 0.5449\n",
      "Epoch 16/20\n",
      "1563/1563 [==============================] - 11s 7ms/step - loss: 1.2249 - accuracy: 0.5550\n",
      "Epoch 17/20\n",
      "1563/1563 [==============================] - 11s 7ms/step - loss: 1.2034 - accuracy: 0.5597\n",
      "Epoch 18/20\n",
      "1563/1563 [==============================] - 11s 7ms/step - loss: 1.1699 - accuracy: 0.5732\n",
      "Epoch 19/20\n",
      "1563/1563 [==============================] - 11s 7ms/step - loss: 1.1523 - accuracy: 0.5787\n",
      "Epoch 20/20\n",
      "1563/1563 [==============================] - 11s 7ms/step - loss: 1.1259 - accuracy: 0.5877\n"
     ]
    }
   ],
   "source": [
    "history = model.fit(train_dataset, epochs=20)"
   ]
  },
  {
   "cell_type": "markdown",
   "metadata": {},
   "source": [
    "<div style=\"direction:ltr;text-align:left;font-family: Tahoma\">\n",
    "Evaluating the classifier:\n",
    "</div>"
   ]
  },
  {
   "cell_type": "code",
   "execution_count": 10,
   "metadata": {},
   "outputs": [
    {
     "name": "stdout",
     "output_type": "stream",
     "text": [
      "Accuracy is 54.59 %\n"
     ]
    }
   ],
   "source": [
    "loss, accuracy = model.evaluate(train_dataset, verbose=0)\n",
    "print(\"Accuracy is %.2f %%\" %(accuracy * 100))"
   ]
  },
  {
   "cell_type": "code",
   "execution_count": 11,
   "metadata": {},
   "outputs": [
    {
     "name": "stdout",
     "output_type": "stream",
     "text": [
      "Accuracy is 45.92 %\n"
     ]
    }
   ],
   "source": [
    "loss, accuracy = model.evaluate(test_dataset, verbose=0)\n",
    "print(\"Accuracy is %.2f %%\" %(accuracy * 100))"
   ]
  },
  {
   "cell_type": "markdown",
   "metadata": {},
   "source": [
    "<img src=\"./images/dropout.png\" alt=\"Dropout\">\n",
    "<a href=\"https://www.researchgate.net/profile/Amine_Ben_khalifa/publication/309206911/figure/fig3/AS:418379505651712@1476760855735/Dropout-neural-network-model-a-is-a-standard-neural-network-b-is-the-same-network.png\">Reference</a>"
   ]
  },
  {
   "cell_type": "markdown",
   "metadata": {},
   "source": [
    "<div style=\"direction:ltr;text-align:left;font-family: Tahoma\">\n",
    "Adding Dropout, Data Augmention, Callback,...:\n",
    "</div>"
   ]
  },
  {
   "cell_type": "code",
   "execution_count": 12,
   "metadata": {},
   "outputs": [],
   "source": [
    "def preprocess_train(input_image, label):\n",
    "    input_image = tf.cast(input_image, tf.float32)\n",
    "    label = tf.cast(label, tf.int32)\n",
    "    label = tf.one_hot(label,  depth=10)\n",
    "    label = tf.squeeze(label)\n",
    "    input_image = tf.image.random_flip_left_right(input_image)\n",
    "    input_image = tf.image.resize_with_crop_or_pad(input_image, 32, 32)\n",
    "    input_image = input_image / 255\n",
    "    input_image = tf.reshape(input_image, [32*32*3])\n",
    "    \n",
    "    return input_image, label\n",
    "\n",
    "def preprocess_test(input_image, label):\n",
    "    input_image = tf.cast(input_image, tf.float32)\n",
    "    label = tf.cast(label, tf.int32)\n",
    "    label = tf.one_hot(label,  depth=10)\n",
    "    label = tf.squeeze(label)\n",
    "    input_image = input_image / 255\n",
    "    input_image = tf.reshape(input_image, [32*32*3])\n",
    "    \n",
    "    return input_image, label"
   ]
  },
  {
   "cell_type": "code",
   "execution_count": null,
   "metadata": {},
   "outputs": [],
   "source": [
    "train_dataset = tf.data.Dataset.from_tensor_slices((x_train, y_train))\n",
    "train_dataset = train_dataset.map(preprocess_train, num_parallel_calls=tf.data.experimental.AUTOTUNE)\n",
    "train_dataset = train_dataset.prefetch(tf.data.experimental.AUTOTUNE)\n",
    "train_dataset = train_dataset.shuffle(128).batch(32)\n",
    "\n",
    "test_dataset = tf.data.Dataset.from_tensor_slices((x_test, y_test))\n",
    "test_dataset = test_dataset.map(preprocess_test, num_parallel_calls=tf.data.experimental.AUTOTUNE)\n",
    "test_dataset = test_dataset.batch(32)"
   ]
  },
  {
   "cell_type": "code",
   "execution_count": 13,
   "metadata": {},
   "outputs": [],
   "source": [
    "model = tf.keras.Sequential([tf.keras.layers.Dense(512, activation='relu', input_shape=(32*32*3,)), \n",
    "                             tf.keras.layers.Dense(512, activation='relu'), \n",
    "                             tf.keras.layers.Dense(256, activation='relu'), \n",
    "                             tf.keras.layers.Dropout(0.5),\n",
    "                             tf.keras.layers.Dense(128, activation='relu'), \n",
    "                             tf.keras.layers.Dropout(0.5),\n",
    "                             tf.keras.layers.Dense(10, activation='softmax')])"
   ]
  },
  {
   "cell_type": "code",
   "execution_count": 14,
   "metadata": {},
   "outputs": [
    {
     "name": "stdout",
     "output_type": "stream",
     "text": [
      "Model: \"sequential_1\"\n",
      "_________________________________________________________________\n",
      "Layer (type)                 Output Shape              Param #   \n",
      "=================================================================\n",
      "dense_5 (Dense)              (None, 512)               1573376   \n",
      "_________________________________________________________________\n",
      "dense_6 (Dense)              (None, 512)               262656    \n",
      "_________________________________________________________________\n",
      "dense_7 (Dense)              (None, 256)               131328    \n",
      "_________________________________________________________________\n",
      "dropout (Dropout)            (None, 256)               0         \n",
      "_________________________________________________________________\n",
      "dense_8 (Dense)              (None, 128)               32896     \n",
      "_________________________________________________________________\n",
      "dropout_1 (Dropout)          (None, 128)               0         \n",
      "_________________________________________________________________\n",
      "dense_9 (Dense)              (None, 10)                1290      \n",
      "=================================================================\n",
      "Total params: 2,001,546\n",
      "Trainable params: 2,001,546\n",
      "Non-trainable params: 0\n",
      "_________________________________________________________________\n"
     ]
    }
   ],
   "source": [
    "model.summary()"
   ]
  },
  {
   "cell_type": "code",
   "execution_count": 15,
   "metadata": {},
   "outputs": [],
   "source": [
    "model.compile(loss='categorical_crossentropy', optimizer='adam', metrics=['accuracy', \n",
    "                                                                          tf.keras.metrics.TopKCategoricalAccuracy(k=5)])"
   ]
  },
  {
   "cell_type": "code",
   "execution_count": 16,
   "metadata": {},
   "outputs": [],
   "source": [
    "my_callbacks = [\n",
    "    tf.keras.callbacks.EarlyStopping(patience=3, monitor=\"val_accuracy\"),\n",
    "    tf.keras.callbacks.ModelCheckpoint(filepath='model.{epoch:02d}-{val_loss:.2f}.h5', \n",
    "                                       save_best_only=True, \n",
    "                                       monitor=\"val_accuracy\")\n",
    "]"
   ]
  },
  {
   "cell_type": "code",
   "execution_count": 17,
   "metadata": {},
   "outputs": [
    {
     "name": "stdout",
     "output_type": "stream",
     "text": [
      "Train for 1563 steps, validate for 313 steps\n",
      "Epoch 1/20\n",
      "1563/1563 [==============================] - 11s 7ms/step - loss: 2.0619 - accuracy: 0.2224 - top_k_categorical_accuracy: 0.7492 - val_loss: 1.8528 - val_accuracy: 0.3186 - val_top_k_categorical_accuracy: 0.8284\n",
      "Epoch 2/20\n",
      "1563/1563 [==============================] - 11s 7ms/step - loss: 1.8951 - accuracy: 0.3077 - top_k_categorical_accuracy: 0.8203 - val_loss: 1.8239 - val_accuracy: 0.3393 - val_top_k_categorical_accuracy: 0.8396\n",
      "Epoch 3/20\n",
      "1563/1563 [==============================] - 10s 7ms/step - loss: 1.8406 - accuracy: 0.3352 - top_k_categorical_accuracy: 0.8361 - val_loss: 1.7807 - val_accuracy: 0.3546 - val_top_k_categorical_accuracy: 0.8482\n",
      "Epoch 4/20\n",
      "1563/1563 [==============================] - 10s 6ms/step - loss: 1.8115 - accuracy: 0.3485 - top_k_categorical_accuracy: 0.8401 - val_loss: 1.7929 - val_accuracy: 0.3368 - val_top_k_categorical_accuracy: 0.8499\n",
      "Epoch 5/20\n",
      "1563/1563 [==============================] - 10s 7ms/step - loss: 1.7837 - accuracy: 0.3601 - top_k_categorical_accuracy: 0.8484 - val_loss: 1.7574 - val_accuracy: 0.3616 - val_top_k_categorical_accuracy: 0.8573\n",
      "Epoch 6/20\n",
      "1563/1563 [==============================] - 10s 7ms/step - loss: 1.7693 - accuracy: 0.3643 - top_k_categorical_accuracy: 0.8532 - val_loss: 1.7220 - val_accuracy: 0.3871 - val_top_k_categorical_accuracy: 0.8644\n",
      "Epoch 7/20\n",
      "1563/1563 [==============================] - 10s 7ms/step - loss: 1.7605 - accuracy: 0.3692 - top_k_categorical_accuracy: 0.8547 - val_loss: 1.6886 - val_accuracy: 0.3928 - val_top_k_categorical_accuracy: 0.8739\n",
      "Epoch 8/20\n",
      "1563/1563 [==============================] - 10s 6ms/step - loss: 1.7475 - accuracy: 0.3741 - top_k_categorical_accuracy: 0.8588 - val_loss: 1.6778 - val_accuracy: 0.3996 - val_top_k_categorical_accuracy: 0.8749\n",
      "Epoch 9/20\n",
      "1563/1563 [==============================] - 10s 6ms/step - loss: 1.7436 - accuracy: 0.3764 - top_k_categorical_accuracy: 0.8595 - val_loss: 1.6725 - val_accuracy: 0.3965 - val_top_k_categorical_accuracy: 0.8801\n",
      "Epoch 10/20\n",
      "1563/1563 [==============================] - 10s 7ms/step - loss: 1.7313 - accuracy: 0.3819 - top_k_categorical_accuracy: 0.8638 - val_loss: 1.6915 - val_accuracy: 0.3888 - val_top_k_categorical_accuracy: 0.8704\n",
      "Epoch 11/20\n",
      "1563/1563 [==============================] - 10s 7ms/step - loss: 1.7234 - accuracy: 0.3831 - top_k_categorical_accuracy: 0.8660 - val_loss: 1.6485 - val_accuracy: 0.4051 - val_top_k_categorical_accuracy: 0.8828\n",
      "Epoch 12/20\n",
      "1563/1563 [==============================] - 10s 6ms/step - loss: 1.7116 - accuracy: 0.3905 - top_k_categorical_accuracy: 0.8676 - val_loss: 1.6550 - val_accuracy: 0.4021 - val_top_k_categorical_accuracy: 0.8784\n",
      "Epoch 13/20\n",
      "1563/1563 [==============================] - 10s 7ms/step - loss: 1.7023 - accuracy: 0.3932 - top_k_categorical_accuracy: 0.8689 - val_loss: 1.6506 - val_accuracy: 0.4061 - val_top_k_categorical_accuracy: 0.8807\n",
      "Epoch 14/20\n",
      "1563/1563 [==============================] - 10s 7ms/step - loss: 1.6951 - accuracy: 0.3961 - top_k_categorical_accuracy: 0.8720 - val_loss: 1.6431 - val_accuracy: 0.4120 - val_top_k_categorical_accuracy: 0.8815\n",
      "Epoch 15/20\n",
      "1563/1563 [==============================] - 10s 6ms/step - loss: 1.6903 - accuracy: 0.3988 - top_k_categorical_accuracy: 0.8721 - val_loss: 1.6495 - val_accuracy: 0.4029 - val_top_k_categorical_accuracy: 0.8799\n",
      "Epoch 16/20\n",
      "1563/1563 [==============================] - 10s 6ms/step - loss: 1.6846 - accuracy: 0.3992 - top_k_categorical_accuracy: 0.8740 - val_loss: 1.6454 - val_accuracy: 0.4089 - val_top_k_categorical_accuracy: 0.8805\n",
      "Epoch 17/20\n",
      "1563/1563 [==============================] - 10s 6ms/step - loss: 1.6773 - accuracy: 0.4040 - top_k_categorical_accuracy: 0.8757 - val_loss: 1.6411 - val_accuracy: 0.4155 - val_top_k_categorical_accuracy: 0.8801\n",
      "Epoch 18/20\n",
      "1563/1563 [==============================] - 10s 6ms/step - loss: 1.6780 - accuracy: 0.4024 - top_k_categorical_accuracy: 0.8759 - val_loss: 1.6388 - val_accuracy: 0.4080 - val_top_k_categorical_accuracy: 0.8832\n",
      "Epoch 19/20\n",
      "1563/1563 [==============================] - 10s 6ms/step - loss: 1.6697 - accuracy: 0.4027 - top_k_categorical_accuracy: 0.8775 - val_loss: 1.6486 - val_accuracy: 0.4032 - val_top_k_categorical_accuracy: 0.8780\n",
      "Epoch 20/20\n",
      "1563/1563 [==============================] - 10s 7ms/step - loss: 1.6704 - accuracy: 0.4060 - top_k_categorical_accuracy: 0.8756 - val_loss: 1.6546 - val_accuracy: 0.4030 - val_top_k_categorical_accuracy: 0.8785\n"
     ]
    },
    {
     "data": {
      "text/plain": [
       "<tensorflow.python.keras.callbacks.History at 0x2d76263b3c8>"
      ]
     },
     "execution_count": 17,
     "metadata": {},
     "output_type": "execute_result"
    }
   ],
   "source": [
    "model.fit(train_dataset, epochs=20, callbacks=my_callbacks, validation_data=test_dataset)"
   ]
  },
  {
   "cell_type": "code",
   "execution_count": 18,
   "metadata": {},
   "outputs": [
    {
     "name": "stdout",
     "output_type": "stream",
     "text": [
      "Accuracy is 41.12 %\n",
      "Top 5 accuracy is 88.62 %\n"
     ]
    }
   ],
   "source": [
    "loss, accuracy, top5 = model.evaluate(train_dataset, verbose=0)\n",
    "print(\"Accuracy is %.2f %%\" %(accuracy * 100))\n",
    "print(\"Top 5 accuracy is %.2f %%\" %(top5 * 100))"
   ]
  },
  {
   "cell_type": "code",
   "execution_count": 19,
   "metadata": {},
   "outputs": [
    {
     "name": "stdout",
     "output_type": "stream",
     "text": [
      "Accuracy is 40.30 %\n",
      "Top 5 accuracy is 87.85 %\n"
     ]
    }
   ],
   "source": [
    "loss, accuracy, top5 = model.evaluate(test_dataset, verbose=0)\n",
    "print(\"Accuracy is %.2f %%\" %(accuracy * 100))\n",
    "print(\"Top 5 accuracy is %.2f %%\" %(top5 * 100))"
   ]
  },
  {
   "cell_type": "markdown",
   "metadata": {
    "collapsed": true
   },
   "source": [
    "<div class=\"alert\">\n",
    "<div style=\"direction:ltr;text-align:left;font-family:B Tahoma\"> Practical Deep Learning Course for Computer Vision\n",
    "<br>Vahid Reza Khazaie<br>\n",
    "</div>\n",
    "<a href=\"https://www.linkedin.com/in/vahidrezakhazaie/\">LinkedIn</a> - <a href=\"https://github.com/vrkh1996\">GitHub</a>\n",
    "\n",
    "</div>"
   ]
  }
 ],
 "metadata": {
  "anaconda-cloud": {},
  "kernelspec": {
   "display_name": "Python 3",
   "language": "python",
   "name": "python3"
  },
  "language_info": {
   "codemirror_mode": {
    "name": "ipython",
    "version": 3
   },
   "file_extension": ".py",
   "mimetype": "text/x-python",
   "name": "python",
   "nbconvert_exporter": "python",
   "pygments_lexer": "ipython3",
   "version": "3.7.7"
  },
  "nbpresent": {
   "slides": {
    "300ee14f-a043-486e-b274-7ff253907cd7": {
     "id": "300ee14f-a043-486e-b274-7ff253907cd7",
     "prev": "cb74e0bc-4513-4d13-b7f1-14c3078a7927",
     "regions": {
      "26dc3f39-a230-447c-af4c-f5e5b2fb7835": {
       "attrs": {
        "height": 0.8,
        "width": 0.8,
        "x": 0.1,
        "y": 0.1
       },
       "content": {
        "cell": "c58440a5-3f8f-4f37-9c79-6bf766209406",
        "part": "whole"
       },
       "id": "26dc3f39-a230-447c-af4c-f5e5b2fb7835"
      }
     }
    },
    "878aa53a-1444-4100-8f50-7a408191c579": {
     "id": "878aa53a-1444-4100-8f50-7a408191c579",
     "prev": null,
     "regions": {
      "a6c6843a-5ea6-4fbc-b890-3b4b8ae475b3": {
       "attrs": {
        "height": 0.8,
        "width": 0.8,
        "x": 0.1,
        "y": 0.1
       },
       "content": {
        "cell": "588ee1fa-64b5-453b-ade7-8e6b2515821c",
        "part": "whole"
       },
       "id": "a6c6843a-5ea6-4fbc-b890-3b4b8ae475b3"
      }
     }
    },
    "92e1449b-15f5-40ac-89eb-9496a06af0b0": {
     "id": "92e1449b-15f5-40ac-89eb-9496a06af0b0",
     "prev": "300ee14f-a043-486e-b274-7ff253907cd7",
     "regions": {
      "ea2d28ea-4686-4b1c-832c-836c35a7524e": {
       "attrs": {
        "height": 1,
        "width": 1,
        "x": 0,
        "y": 0
       },
       "id": "ea2d28ea-4686-4b1c-832c-836c35a7524e"
      }
     }
    },
    "96ffe88e-7b50-43de-afdd-942e564f4e3e": {
     "id": "96ffe88e-7b50-43de-afdd-942e564f4e3e",
     "prev": "878aa53a-1444-4100-8f50-7a408191c579",
     "regions": {
      "b7e52e12-489a-468d-b10c-af2024fd2856": {
       "attrs": {
        "height": 0.8,
        "width": 0.8,
        "x": 0.1,
        "y": 0.1
       },
       "content": {
        "cell": "de829a92-1fb6-44ad-a2c6-fc1001e1f6e1",
        "part": "whole"
       },
       "id": "b7e52e12-489a-468d-b10c-af2024fd2856"
      }
     }
    },
    "cb74e0bc-4513-4d13-b7f1-14c3078a7927": {
     "id": "cb74e0bc-4513-4d13-b7f1-14c3078a7927",
     "prev": "96ffe88e-7b50-43de-afdd-942e564f4e3e",
     "regions": {
      "444878ee-68f3-4abb-acff-a7079b21e86d": {
       "attrs": {
        "height": 0.8,
        "width": 0.8,
        "x": 0.1,
        "y": 0.1
       },
       "content": {
        "cell": "25f3f538-1ee8-4d98-a6bb-14cbeb7a702d",
        "part": "whole"
       },
       "id": "444878ee-68f3-4abb-acff-a7079b21e86d"
      }
     }
    }
   },
   "themes": {}
  }
 },
 "nbformat": 4,
 "nbformat_minor": 1
}
